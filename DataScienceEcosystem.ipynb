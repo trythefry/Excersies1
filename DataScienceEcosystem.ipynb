{
 "cells": [
  {
   "cell_type": "markdown",
   "id": "1ca9cf7a-5d6c-4f3c-aff4-87b32ecb9f8e",
   "metadata": {},
   "source": [
    "# Data Science Tools and Ecosystem"
   ]
  },
  {
   "cell_type": "markdown",
   "id": "97763104-1fd4-4bba-a271-782a8b55681a",
   "metadata": {},
   "source": [
    "### In this notebook, Data Science Tools and Ecosystem are summarized.\n"
   ]
  },
  {
   "cell_type": "markdown",
   "id": "4df72b52-b909-493b-a4d7-9da90d5c2639",
   "metadata": {},
   "source": [
    "Some of the popular languages that Data Scientists use are: \n",
    "1. Python\n",
    "2. R\n",
    "3. SQL"
   ]
  },
  {
   "cell_type": "markdown",
   "id": "2e1e9b52-a1f3-4617-b38a-088c56233d8c",
   "metadata": {},
   "source": [
    "##### 1- Python\n",
    "##### 2- R\n",
    "##### 3- SQL"
   ]
  },
  {
   "cell_type": "markdown",
   "id": "d8ab6b5d-1d6e-4ea9-bec2-ebcf56a3f1ff",
   "metadata": {},
   "source": [
    "Some of the commonly used libraries used by Data Scientists include:\n",
    "\n",
    "1. Panadas\n",
    "2. Pytorch\n",
    "3. matplotlib"
   ]
  },
  {
   "cell_type": "markdown",
   "id": "6d75eda0-db46-493b-9ea8-887f0c1d3851",
   "metadata": {},
   "source": [
    "#### Data Science Tools"
   ]
  },
  {
   "cell_type": "markdown",
   "id": "998e3dd1-0d0a-4d37-a875-498155cbd611",
   "metadata": {},
   "source": [
    "|Data Science Tools|\n",
    "|--------------------|\n",
    "|Jupyter Notebook|\n",
    "|RStudio|\n",
    "|MySQL|\n"
   ]
  },
  {
   "cell_type": "markdown",
   "id": "e1fbbc54-6f8f-4334-85f8-95a8ed54d4ca",
   "metadata": {},
   "source": [
    "### Below are a few examples of evaluating arithmetic expressions in Python.\n"
   ]
  },
  {
   "cell_type": "code",
   "execution_count": 9,
   "id": "93b69ca1-b729-4949-8218-158c8a4f682b",
   "metadata": {},
   "outputs": [
    {
     "data": {
      "text/plain": [
       "17"
      ]
     },
     "execution_count": 9,
     "metadata": {},
     "output_type": "execute_result"
    }
   ],
   "source": [
    "# This a simple arithmetic expression to mutiply then add integers\n",
    "(3*4)+5"
   ]
  },
  {
   "cell_type": "code",
   "execution_count": 11,
   "id": "8117be57-024d-4dfa-ac76-cc3dd17909e8",
   "metadata": {},
   "outputs": [
    {
     "data": {
      "text/plain": [
       "12000"
      ]
     },
     "execution_count": 11,
     "metadata": {},
     "output_type": "execute_result"
    }
   ],
   "source": [
    "# This will convert 200 minutes to hours by diving by 60\n",
    "200*60"
   ]
  },
  {
   "cell_type": "markdown",
   "id": "c9755721-69e7-48e5-8292-89f21e049123",
   "metadata": {},
   "source": [
    "**Objectives:**\n",
    "\n",
    "* list some of the popular languages that Data Scientists use\n",
    "* list some of the commonly used libraries used by Data Scientists\n",
    "* list some of the used Data Science Tools used by Data Scientists"
   ]
  },
  {
   "cell_type": "markdown",
   "id": "6bf1edce-0cd4-472b-bcd9-cb73bd020a81",
   "metadata": {},
   "source": [
    "## Author:\n",
    "Hassan Darwish"
   ]
  }
 ],
 "metadata": {
  "kernelspec": {
   "display_name": "Python 3 (ipykernel)",
   "language": "python",
   "name": "python3"
  },
  "language_info": {
   "codemirror_mode": {
    "name": "ipython",
    "version": 3
   },
   "file_extension": ".py",
   "mimetype": "text/x-python",
   "name": "python",
   "nbconvert_exporter": "python",
   "pygments_lexer": "ipython3",
   "version": "3.11.7"
  }
 },
 "nbformat": 4,
 "nbformat_minor": 5
}
